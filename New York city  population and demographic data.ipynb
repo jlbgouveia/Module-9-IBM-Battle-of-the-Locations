{
 "cells": [
  {
   "cell_type": "markdown",
   "metadata": {},
   "source": [
    "## Problem Statement \n",
    "The objective is to locate and recommend to the client which neighbourhood in New York City will be best choice to start a restaurant."
   ]
  },
  {
   "cell_type": "markdown",
   "metadata": {},
   "source": [
    "### New York city  population and demographic data"
   ]
  },
  {
   "cell_type": "markdown",
   "metadata": {},
   "source": [
    "Data source : https://en.wikipedia.org/wiki/New_York_City ; https://en.wikipedia.org/wiki/Demographics_of_New_York_City. Web scraping techniques was used to get NYC population density and demographics data from Wikipedia."
   ]
  },
  {
   "cell_type": "code",
   "execution_count": 1,
   "metadata": {},
   "outputs": [
    {
     "name": "stdout",
     "output_type": "stream",
     "text": [
      "Libraries imported.\n"
     ]
    }
   ],
   "source": [
    "import pandas as pd\n",
    "import numpy as np\n",
    "\n",
    "pd.set_option('display.max_columns', None)\n",
    "pd.set_option('display.max_rows', None)\n",
    "\n",
    "import requests\n",
    "from bs4 import BeautifulSoup\n",
    "from geopy.geocoders import Nominatim # convert an address into latitude and longitude values\n",
    "#!conda install -c conda-forge folium\n",
    "\n",
    "import os\n",
    "import folium # map rendering library\n",
    "# Matplotlib and associated plotting modules\n",
    "\n",
    "import matplotlib.pyplot as plt\n",
    "import matplotlib.cm as cm\n",
    "import matplotlib.colors as colors\n",
    "import matplotlib as mp\n",
    "import re\n",
    "import csv\n",
    "%matplotlib inline\n",
    "\n",
    "\n",
    "print('Libraries imported.')"
   ]
  },
  {
   "cell_type": "code",
   "execution_count": 2,
   "metadata": {},
   "outputs": [],
   "source": [
    "response_obj = requests.get('https://en.wikipedia.org/wiki/New_York_City').text\n",
    "soup = BeautifulSoup(response_obj,'lxml')\n",
    "Neighborhoods_NYC_Table = soup.find('table', {'class':'wikitable sortable'})\n",
    "### preparation of the table "
   ]
  },
  {
   "cell_type": "code",
   "execution_count": 3,
   "metadata": {},
   "outputs": [
    {
     "name": "stdout",
     "output_type": "stream",
     "text": [
      "[{'borough': 'The Bronx', 'county': 'Bronx', 'population': 1471160.0, 'gdp_billions': 28.787, 'gdp_per_capita': 19570.0, 'land_sqm': 42.1, 'land_sqkm': 109.04, 'persons_sqm': 34653.0, 'persons_sqkm': 13231.0}, {'borough': 'Brooklyn', 'county': 'Kings', 'population': 2648771.0, 'gdp_billions': 63.303, 'gdp_per_capita': 23900.0, 'land_sqm': 70.82, 'land_sqkm': 183.42, 'persons_sqm': 37137.0, 'persons_sqkm': 14649.0}, {'borough': 'Manhattan', 'county': 'New York', 'population': 1664727.0, 'gdp_billions': 629.682, 'gdp_per_capita': 378250.0, 'land_sqm': 22.83, 'land_sqkm': 59.13, 'persons_sqm': 72033.0, 'persons_sqkm': 27826.0}, {'borough': 'Queens', 'county': 'Queens', 'population': 2358582.0, 'gdp_billions': 73.842, 'gdp_per_capita': 31310.0, 'land_sqm': 108.53, 'land_sqkm': 281.09, 'persons_sqm': 21460.0, 'persons_sqkm': 8354.0}, {'borough': 'Staten Island', 'county': 'Richmond', 'population': 479458.0, 'gdp_billions': 11.249, 'gdp_per_capita': 23460.0, 'land_sqm': 58.37, 'land_sqkm': 151.18, 'persons_sqm': 8112.0, 'persons_sqkm': 3132.0}]\n"
     ]
    }
   ],
   "source": [
    "rows = Neighborhoods_NYC_Table.select(\"tbody > tr\")[3:8]\n",
    "\n",
    "boroughs = []\n",
    "for row in rows:\n",
    "    borough = {}\n",
    "    tds = row.select('td')\n",
    "    borough[\"borough\"] = tds[0].text.strip()\n",
    "    borough[\"county\"] = tds[1].text.strip()\n",
    "    borough[\"population\"] = float(tds[2].text.strip().replace(\",\",\"\"))\n",
    "    borough[\"gdp_billions\"] = float(tds[3].text.strip().replace(\",\",\"\"))\n",
    "    borough[\"gdp_per_capita\"] = float(tds[4].text.strip().replace(\",\",\"\"))\n",
    "    borough[\"land_sqm\"] = float(tds[5].text.strip().replace(\",\",\"\"))\n",
    "    borough[\"land_sqkm\"] = float(tds[6].text.strip().replace(\",\",\"\"))\n",
    "    borough[\"persons_sqm\"] = float(tds[7].text.strip().replace(\",\",\"\"))\n",
    "    borough[\"persons_sqkm\"] = float(tds[8].text.strip().replace(\",\",\"\"))\n",
    "    \n",
    "    boroughs.append(borough)\n",
    "\n",
    "print(boroughs)"
   ]
  },
  {
   "cell_type": "markdown",
   "metadata": {},
   "source": [
    "df = pd.DataFrame(boroughs, columns=[\"borough\",\"county\", \"population\", \"gdp_per_capita\", \"persons_sqkm\"])\n",
    "df.head()"
   ]
  },
  {
   "cell_type": "code",
   "execution_count": 5,
   "metadata": {
    "scrolled": true
   },
   "outputs": [
    {
     "name": "stdout",
     "output_type": "stream",
     "text": [
      "[{'jurisdiction': 'Queens', 'population_census': '2,229,379', '%_white': 44.1, '%_black_or_african_amercian': 20.0, '%_Asian': 17.6, '%_other': 12.3, '%_mixed_race': 6.1, '%_hispanic_latino_of_other_race': 25.0, '%_catholic': 37.0, '%_jewish': 5.0}, {'jurisdiction': 'Manhattan', 'population_census': '1,537,195', '%_white': 54.4, '%_black_or_african_amercian': 17.4, '%_Asian': 9.4, '%_other': 14.7, '%_mixed_race': 4.1, '%_hispanic_latino_of_other_race': 27.2, '%_catholic': 11.0, '%_jewish': 9.0}, {'jurisdiction': 'Bronx', 'population_census': '1,332,650', '%_white': 29.9, '%_black_or_african_amercian': 35.6, '%_Asian': 3.0, '%_other': 25.7, '%_mixed_race': 5.8, '%_hispanic_latino_of_other_race': 48.4, '%_catholic': 14.0, '%_jewish': 5.0}, {'jurisdiction': 'Staten Island', 'population_census': '443,728', '%_white': 77.6, '%_black_or_african_amercian': 9.7, '%_Asian': 5.7, '%_other': 4.3, '%_mixed_race': 2.7, '%_hispanic_latino_of_other_race': 12.1, '%_catholic': 11.0, '%_jewish': 5.0}, {'jurisdiction': 'NYC Total', 'population_census': '8,008,278', '%_white': 44.7, '%_black_or_african_amercian': 26.6, '%_Asian': 9.8, '%_other': 14.0, '%_mixed_race': 4.9, '%_hispanic_latino_of_other_race': 27.0, '%_catholic': 17.0, '%_jewish': 6.0}]\n"
     ]
    }
   ],
   "source": [
    "response_obj = requests.get('https://en.wikipedia.org/wiki/Demographics_of_New_York_City').text\n",
    "soup = BeautifulSoup(response_obj,'lxml')\n",
    "Population_Census_Table = soup.select_one('.wikitable:nth-of-type(5)') #use css selector to target correct table.\n",
    "\n",
    "jurisdictions = []\n",
    "rows = Population_Census_Table.select(\"tbody > tr\")[3:8]\n",
    "for row in rows:\n",
    "    jurisdiction = {}\n",
    "    tds = row.select('td')\n",
    "    jurisdiction[\"jurisdiction\"] = tds[0].text.strip()\n",
    "    jurisdiction[\"population_census\"] = tds[1].text.strip()\n",
    "    jurisdiction[\"%_white\"] = float(tds[2].text.strip().replace(\",\",\"\"))\n",
    "    jurisdiction[\"%_black_or_african_amercian\"] = float(tds[3].text.strip().replace(\",\",\"\"))\n",
    "    jurisdiction[\"%_Asian\"] = float(tds[4].text.strip().replace(\",\",\"\"))\n",
    "    jurisdiction[\"%_other\"] = float(tds[5].text.strip().replace(\",\",\"\"))\n",
    "    jurisdiction[\"%_mixed_race\"] = float(tds[6].text.strip().replace(\",\",\"\"))\n",
    "    jurisdiction[\"%_hispanic_latino_of_other_race\"] = float(tds[7].text.strip().replace(\",\",\"\"))\n",
    "    jurisdiction[\"%_catholic\"] = float(tds[10].text.strip().replace(\",\",\"\"))\n",
    "    jurisdiction[\"%_jewish\"] = float(tds[12].text.strip().replace(\",\",\"\"))\n",
    "    jurisdictions.append(jurisdiction)\n",
    "\n",
    "print(jurisdictions)"
   ]
  },
  {
   "cell_type": "code",
   "execution_count": 6,
   "metadata": {},
   "outputs": [
    {
     "data": {
      "text/html": [
       "<div>\n",
       "<style scoped>\n",
       "    .dataframe tbody tr th:only-of-type {\n",
       "        vertical-align: middle;\n",
       "    }\n",
       "\n",
       "    .dataframe tbody tr th {\n",
       "        vertical-align: top;\n",
       "    }\n",
       "\n",
       "    .dataframe thead th {\n",
       "        text-align: right;\n",
       "    }\n",
       "</style>\n",
       "<table border=\"1\" class=\"dataframe\">\n",
       "  <thead>\n",
       "    <tr style=\"text-align: right;\">\n",
       "      <th></th>\n",
       "      <th>jurisdiction</th>\n",
       "      <th>%_white</th>\n",
       "      <th>%_black_or_african_amercian</th>\n",
       "      <th>%_Asian</th>\n",
       "      <th>%_other</th>\n",
       "      <th>%_mixed_race</th>\n",
       "      <th>%_hispanic_latino_of_other_race</th>\n",
       "    </tr>\n",
       "  </thead>\n",
       "  <tbody>\n",
       "    <tr>\n",
       "      <th>0</th>\n",
       "      <td>Queens</td>\n",
       "      <td>44.1</td>\n",
       "      <td>20.0</td>\n",
       "      <td>17.6</td>\n",
       "      <td>12.3</td>\n",
       "      <td>6.1</td>\n",
       "      <td>25.0</td>\n",
       "    </tr>\n",
       "    <tr>\n",
       "      <th>1</th>\n",
       "      <td>Manhattan</td>\n",
       "      <td>54.4</td>\n",
       "      <td>17.4</td>\n",
       "      <td>9.4</td>\n",
       "      <td>14.7</td>\n",
       "      <td>4.1</td>\n",
       "      <td>27.2</td>\n",
       "    </tr>\n",
       "    <tr>\n",
       "      <th>2</th>\n",
       "      <td>Bronx</td>\n",
       "      <td>29.9</td>\n",
       "      <td>35.6</td>\n",
       "      <td>3.0</td>\n",
       "      <td>25.7</td>\n",
       "      <td>5.8</td>\n",
       "      <td>48.4</td>\n",
       "    </tr>\n",
       "    <tr>\n",
       "      <th>3</th>\n",
       "      <td>Staten Island</td>\n",
       "      <td>77.6</td>\n",
       "      <td>9.7</td>\n",
       "      <td>5.7</td>\n",
       "      <td>4.3</td>\n",
       "      <td>2.7</td>\n",
       "      <td>12.1</td>\n",
       "    </tr>\n",
       "    <tr>\n",
       "      <th>4</th>\n",
       "      <td>NYC Total</td>\n",
       "      <td>44.7</td>\n",
       "      <td>26.6</td>\n",
       "      <td>9.8</td>\n",
       "      <td>14.0</td>\n",
       "      <td>4.9</td>\n",
       "      <td>27.0</td>\n",
       "    </tr>\n",
       "  </tbody>\n",
       "</table>\n",
       "</div>"
      ],
      "text/plain": [
       "    jurisdiction  %_white  %_black_or_african_amercian  %_Asian  %_other  \\\n",
       "0         Queens     44.1                         20.0     17.6     12.3   \n",
       "1      Manhattan     54.4                         17.4      9.4     14.7   \n",
       "2          Bronx     29.9                         35.6      3.0     25.7   \n",
       "3  Staten Island     77.6                          9.7      5.7      4.3   \n",
       "4      NYC Total     44.7                         26.6      9.8     14.0   \n",
       "\n",
       "   %_mixed_race  %_hispanic_latino_of_other_race  \n",
       "0           6.1                             25.0  \n",
       "1           4.1                             27.2  \n",
       "2           5.8                             48.4  \n",
       "3           2.7                             12.1  \n",
       "4           4.9                             27.0  "
      ]
     },
     "execution_count": 6,
     "metadata": {},
     "output_type": "execute_result"
    }
   ],
   "source": [
    "df = pd.DataFrame(jurisdictions, columns=[\"jurisdiction\",\"%_white\", \"%_black_or_african_amercian\", \"%_Asian\", \"%_other\", \"%_mixed_race\", \"%_hispanic_latino_of_other_race\"])\n",
    "df.head()"
   ]
  },
  {
   "cell_type": "markdown",
   "metadata": {},
   "source": [
    "Preliminary finding indicates that \n",
    "1. Queens is the second most populous urban area in New York City (NYC), behind Brooklyn however, it is the most ethnically diverse urban area in NYC with the highest Asian ethnic minority population. \n",
    "2. Despite the fact that Mantthan is the third most populous urban area in New York City (NYC), it has a population density of 27,826 people per square km, highest of any borough in the United States. It has the second highest Asian ethnic minority population in NYC. "
   ]
  },
  {
   "cell_type": "code",
   "execution_count": null,
   "metadata": {},
   "outputs": [],
   "source": []
  }
 ],
 "metadata": {
  "kernelspec": {
   "display_name": "Python 3",
   "language": "python",
   "name": "python3"
  },
  "language_info": {
   "codemirror_mode": {
    "name": "ipython",
    "version": 3
   },
   "file_extension": ".py",
   "mimetype": "text/x-python",
   "name": "python",
   "nbconvert_exporter": "python",
   "pygments_lexer": "ipython3",
   "version": "3.7.3"
  }
 },
 "nbformat": 4,
 "nbformat_minor": 1
}
