{
 "cells": [
  {
   "cell_type": "markdown",
   "metadata": {},
   "source": [
    "# The Battle of the Neighborhoods - Week 1"
   ]
  },
  {
   "cell_type": "markdown",
   "metadata": {},
   "source": [
    "## 1. Introduction & Business Problem "
   ]
  },
  {
   "cell_type": "markdown",
   "metadata": {},
   "source": [
    "Opening a restaurant requires a great deal of capital and poses a very high risk. Approximately 60% of restaurants fail within the first year of operation, 80% fail within the first five years. The number reason resturant fail is because of - location, location, location! It’s that important. There are many things to take into account when choosing a location. Unless your restaurant is in the heart of midtown Manhattan (and sometimes even if it is) you will need ample, accessible parking. Speaking of accessibility, you will want your brick and mortar restaurant to be easy to find. You will want your restaurant on a main thoroughfare, off an exit of the highway or an area with heavy foot traffic.\n",
    "\n",
    "Aside from visibility and accessibility, you will want to make sure your location is serving an active population. Make sure you know your demographic and how they are currently being served. In short, do your research."
   ]
  },
  {
   "cell_type": "markdown",
   "metadata": {},
   "source": [
    "## 1.1 Discussion of the Background"
   ]
  },
  {
   "cell_type": "markdown",
   "metadata": {},
   "source": [
    "My client, a successful restaurant chain in Asia is looking to expand operation into North America through New York. They want to create a high-end restaurant that comes with organic mix and healthy. Their target is not only Asian, but they are pro-organic and healthy eating. To them every meal counts and counts as a royal when you eat.\n",
    "\n",
    "Since the New York demography is so diverse, my client needs deeper insight from available data in other to decide where to establish the first New York “palace” restaurant. This company spends a lot on research and provides customers with data insight into the ingredients used at restaurants."
   ]
  },
  {
   "cell_type": "markdown",
   "metadata": {},
   "source": [
    "## 1.2 Target Audience"
   ]
  },
  {
   "cell_type": "markdown",
   "metadata": {},
   "source": [
    "Considering the diversity of New York, there is a high multicultural sense. New York is a place where different shades live. As such, in the search for an high-end Asian-inclined restaurant, there is a high shortage. The target audience is broad, it ranges from New Yorkers, tourists and those who are passionate about organic food.The data scientist would provide insights to:-\n",
    "\n",
    " 1. New York Population \n",
    " 1. New York City Demographics \n",
    " 1. Are there any Farmers Markets, Wholesale markets etc nearby so that the ingredients can be purchased fresh to maintain quality and cost?\n",
    " 1. Are there any venues like Gyms, Entertainmnet zones, Parks etc nearby where floating population is high etc \n",
    " 1. Who are the competitors in that location? \n",
    " 1. Cuisine served / Menu of the competitors \n",
    " 1. Segmentation of the Borough \n",
    " 1. Untapped markets \n",
    " 1. Saturated markets etc"
   ]
  },
  {
   "cell_type": "code",
   "execution_count": null,
   "metadata": {},
   "outputs": [],
   "source": []
  },
  {
   "cell_type": "code",
   "execution_count": null,
   "metadata": {},
   "outputs": [],
   "source": []
  }
 ],
 "metadata": {
  "kernelspec": {
   "display_name": "Python 3",
   "language": "python",
   "name": "python3"
  },
  "language_info": {
   "codemirror_mode": {
    "name": "ipython",
    "version": 3
   },
   "file_extension": ".py",
   "mimetype": "text/x-python",
   "name": "python",
   "nbconvert_exporter": "python",
   "pygments_lexer": "ipython3",
   "version": "3.7.3"
  }
 },
 "nbformat": 4,
 "nbformat_minor": 2
}
